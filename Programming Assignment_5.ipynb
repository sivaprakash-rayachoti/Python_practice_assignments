{
 "cells": [
  {
   "cell_type": "markdown",
   "id": "4ac9602a",
   "metadata": {},
   "source": [
    "## Python Basic Programming Assignment - 5\n",
    "--------------\n"
   ]
  },
  {
   "cell_type": "markdown",
   "id": "fdaeee06",
   "metadata": {},
   "source": [
    "### 1. Write a Python Program to Find LCM?"
   ]
  },
  {
   "cell_type": "code",
   "execution_count": 28,
   "id": "2bbfde05",
   "metadata": {},
   "outputs": [],
   "source": [
    "\n",
    "def lcm(a,b):\n",
    "\n",
    "    high = a if a > b else b\n",
    "    while True:\n",
    "        if (high % a == 0) and (high % b == 0):\n",
    "            break\n",
    "        else:\n",
    "            high +=1\n",
    "    return high\n",
    "\n"
   ]
  },
  {
   "cell_type": "code",
   "execution_count": 29,
   "id": "b1491e95",
   "metadata": {},
   "outputs": [
    {
     "data": {
      "text/plain": [
       "90"
      ]
     },
     "execution_count": 29,
     "metadata": {},
     "output_type": "execute_result"
    }
   ],
   "source": [
    "a=90\n",
    "b=15\n",
    "\n",
    "lcm(a,b)"
   ]
  },
  {
   "cell_type": "markdown",
   "id": "2f459cdf",
   "metadata": {},
   "source": [
    "---------------------\n",
    "### 2. Write a Python Program to Find HCF?"
   ]
  },
  {
   "cell_type": "code",
   "execution_count": 30,
   "id": "ca13cf0c",
   "metadata": {},
   "outputs": [],
   "source": [
    "def comp_hcf(a,b):\n",
    "    smaller = a if a < b else b\n",
    "\n",
    "    for i in range (1, smaller+1):\n",
    "        if ((a%i==0) and (b%i==0)):\n",
    "            hcf = i\n",
    "    return hcf"
   ]
  },
  {
   "cell_type": "code",
   "execution_count": 31,
   "id": "3e41d1af",
   "metadata": {},
   "outputs": [
    {
     "data": {
      "text/plain": [
       "2"
      ]
     },
     "execution_count": 31,
     "metadata": {},
     "output_type": "execute_result"
    }
   ],
   "source": [
    "a = 56\n",
    "b = 34\n",
    "\n",
    "comp_hcf(a,b)"
   ]
  },
  {
   "cell_type": "markdown",
   "id": "d2c29370",
   "metadata": {},
   "source": [
    "---------------\n",
    "### 3. Write a Python Program to Convert Decimal to Binary, Octal and Hexadecimal?"
   ]
  },
  {
   "cell_type": "code",
   "execution_count": 32,
   "id": "f9fac93a",
   "metadata": {},
   "outputs": [],
   "source": [
    "def conversion(num):\n",
    "    print(bin(num))\n",
    "    print(oct(num))\n",
    "    print(hex(num))"
   ]
  },
  {
   "cell_type": "code",
   "execution_count": 33,
   "id": "f3dd6f8d",
   "metadata": {},
   "outputs": [
    {
     "name": "stdout",
     "output_type": "stream",
     "text": [
      "0b1100011\n",
      "0o143\n",
      "0x63\n"
     ]
    }
   ],
   "source": [
    "conversion(99)"
   ]
  },
  {
   "cell_type": "code",
   "execution_count": 34,
   "id": "724c2e07",
   "metadata": {},
   "outputs": [
    {
     "name": "stdout",
     "output_type": "stream",
     "text": [
      "0b101110001\n",
      "0o561\n",
      "0x171\n"
     ]
    }
   ],
   "source": [
    "conversion(369)"
   ]
  },
  {
   "cell_type": "markdown",
   "id": "2a16c5fd",
   "metadata": {},
   "source": [
    "---------------------\n",
    "### 4. Write a Python Program To Find ASCII value of a character?"
   ]
  },
  {
   "cell_type": "code",
   "execution_count": 35,
   "id": "c5164be3",
   "metadata": {},
   "outputs": [
    {
     "name": "stdout",
     "output_type": "stream",
     "text": [
      "The ASCII value of / is 47 \n"
     ]
    }
   ],
   "source": [
    "try:\n",
    "    char = input(\"enter a char\")\n",
    "    ASCII = ord(char)\n",
    "    print(\"The ASCII value of {} is {} \".format(char,ASCII))\n",
    "\n",
    "except Exception as err:\n",
    "    print(err)"
   ]
  },
  {
   "cell_type": "markdown",
   "id": "226778a0",
   "metadata": {},
   "source": [
    "----------------\n",
    "### 5. Write a Python Program to Make a Simple Calculator with 4 basic mathematical operations?"
   ]
  },
  {
   "cell_type": "code",
   "execution_count": 36,
   "id": "4d0c1a4d",
   "metadata": {},
   "outputs": [
    {
     "name": "stdout",
     "output_type": "stream",
     "text": [
      "Enter + for addition\n",
      "Enter - for substraction\n",
      "Enter * for multiplication\n",
      "Enter / for division\n",
      "Enter X for exit\n",
      "12\n",
      "Enter + for addition\n",
      "Enter - for substraction\n",
      "Enter * for multiplication\n",
      "Enter / for division\n",
      "Enter X for exit\n",
      "12\n",
      "Enter + for addition\n",
      "Enter - for substraction\n",
      "Enter * for multiplication\n",
      "Enter / for division\n",
      "Enter X for exit\n",
      "invalid literal for int() with base 10: 'X'\n"
     ]
    }
   ],
   "source": [
    "try:\n",
    "    while True:\n",
    "        print(\"Enter + for addition\")\n",
    "        print(\"Enter - for substraction\")\n",
    "        print(\"Enter * for multiplication\")\n",
    "        print(\"Enter / for division\")\n",
    "        print(\"Enter X for exit\")\n",
    "\n",
    "        ch = input(\"Enter operation to be performed\")\n",
    "\n",
    "        a = int(input(\"Enter first value :\"))\n",
    "        b = int(input(\"Enter second value :\"))\n",
    "\n",
    "        if ch == '+':\n",
    "            op = a+b\n",
    "        elif ch == '-':\n",
    "            op = a-b\n",
    "        elif ch == '*':\n",
    "            op = a*b\n",
    "        elif ch == '/':\n",
    "            op = a/b\n",
    "            \n",
    "        if ch == 'X':\n",
    "            print(\"Thank for usring application\")\n",
    "            break\n",
    "        print(op)\n",
    "except Exception as err:\n",
    "    print(err)\n",
    "\n",
    "\n",
    "\n",
    "\n",
    "\n"
   ]
  }
 ],
 "metadata": {
  "kernelspec": {
   "display_name": "Python 3.8.10 64-bit",
   "language": "python",
   "name": "python3"
  },
  "language_info": {
   "codemirror_mode": {
    "name": "ipython",
    "version": 3
   },
   "file_extension": ".py",
   "mimetype": "text/x-python",
   "name": "python",
   "nbconvert_exporter": "python",
   "pygments_lexer": "ipython3",
   "version": "3.8.10"
  },
  "vscode": {
   "interpreter": {
    "hash": "e7370f93d1d0cde622a1f8e1c04877d8463912d04d973331ad4851f04de6915a"
   }
  }
 },
 "nbformat": 4,
 "nbformat_minor": 5
}
