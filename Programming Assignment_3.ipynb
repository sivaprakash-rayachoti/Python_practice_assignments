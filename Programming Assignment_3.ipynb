{
 "cells": [
  {
   "cell_type": "markdown",
   "id": "ad3c798a",
   "metadata": {},
   "source": [
    "## Programming Assignment_3\n",
    "----------------"
   ]
  },
  {
   "cell_type": "markdown",
   "id": "fdeb4706",
   "metadata": {},
   "source": [
    "### 1. Write a Python Program to Check if a Number is Positive, Negative or Zero?\n",
    "##### Sol."
   ]
  },
  {
   "cell_type": "code",
   "execution_count": 24,
   "id": "09c3bcc9",
   "metadata": {},
   "outputs": [
    {
     "name": "stdout",
     "output_type": "stream",
     "text": [
      "The number you have entered is postive\n"
     ]
    }
   ],
   "source": [
    "num = int(input(\"Enter a integer number to be checked :\"))\n",
    "\n",
    "if num > 0:\n",
    "    print(\"The number you have entered is postive\")\n",
    "elif num < 0:\n",
    "    print(\"The number you have entered is negative\")\n",
    "else:\n",
    "    print(\"The number you have entered is zero\")\n"
   ]
  },
  {
   "cell_type": "markdown",
   "id": "086bfded",
   "metadata": {},
   "source": [
    "### 2. Write a Python Program to Check if a Number is Odd or Even?\n",
    "##### Sol."
   ]
  },
  {
   "cell_type": "code",
   "execution_count": 25,
   "id": "de1841dc",
   "metadata": {},
   "outputs": [
    {
     "name": "stdout",
     "output_type": "stream",
     "text": [
      "87 is odd\n"
     ]
    }
   ],
   "source": [
    "num = int(input(\"Enter a number: \"))\n",
    "\n",
    "if num%2 == 0:\n",
    "    print(num, \"is even\")\n",
    "else:\n",
    "    print(num, \"is odd\")"
   ]
  },
  {
   "cell_type": "markdown",
   "id": "575e4f94",
   "metadata": {},
   "source": [
    "### 3. Write a Python Program to Check Leap Year?\n",
    "##### Sol."
   ]
  },
  {
   "cell_type": "code",
   "execution_count": 26,
   "id": "a4f73839",
   "metadata": {},
   "outputs": [
    {
     "name": "stdout",
     "output_type": "stream",
     "text": [
      "not leap year\n"
     ]
    }
   ],
   "source": [
    "year = int(input(\"Enter a year to check for leap year : \"))\n",
    "\n",
    "if (year % 4) == 0 and (year % 100) != 0 or (year % 400) ==0:\n",
    "    print(\"leap year\")\n",
    "else:\n",
    "    print(\"not leap year\")"
   ]
  },
  {
   "cell_type": "markdown",
   "id": "aa83ce63",
   "metadata": {},
   "source": [
    "### 4. Write a Python Program to Check Prime Number?\n",
    "##### Sol."
   ]
  },
  {
   "cell_type": "code",
   "execution_count": 27,
   "id": "b557b47c",
   "metadata": {},
   "outputs": [
    {
     "name": "stdout",
     "output_type": "stream",
     "text": [
      "The number you have entered 102 is not prime number\n"
     ]
    }
   ],
   "source": [
    "num = int(input(\"Enter a number\"))\n",
    "\n",
    "flag = False\n",
    "\n",
    "if (num>1):\n",
    "    for i in range(2,num):\n",
    "        if (num%i == 0):\n",
    "            flag = True\n",
    "            break\n",
    "else:\n",
    "    print(\"The number you have entered {} is not prime not composite\".format(num))\n",
    "\n",
    "if flag:\n",
    "    print(\"The number you have entered {} is not prime number\".format(num))\n",
    "else:\n",
    "    print(\"The number you have entered {} is  prime number\".format(num))\n",
    "\n"
   ]
  },
  {
   "cell_type": "markdown",
   "id": "b44b54ff",
   "metadata": {},
   "source": [
    "### 5. Write a Python Program to Print all Prime Numbers in an Interval of 1-10000?\n",
    "##### Sol."
   ]
  },
  {
   "cell_type": "code",
   "execution_count": 35,
   "id": "464c1311",
   "metadata": {},
   "outputs": [
    {
     "name": "stdout",
     "output_type": "stream",
     "text": [
      "101\n",
      "103\n",
      "107\n",
      "109\n",
      "113\n",
      "127\n",
      "131\n",
      "137\n",
      "139\n",
      "149\n",
      "151\n",
      "157\n",
      "163\n",
      "167\n",
      "173\n",
      "179\n",
      "181\n",
      "191\n",
      "193\n",
      "197\n",
      "199\n"
     ]
    }
   ],
   "source": [
    "lower = 100\n",
    "upper = 200\n",
    "\n",
    "for num in range(lower,upper+1):\n",
    "    if num > 1:\n",
    "        for i in range(2,num):\n",
    "            if (num%i == 0):\n",
    "                break\n",
    "        else:\n",
    "            print(num)"
   ]
  },
  {
   "cell_type": "code",
   "execution_count": null,
   "id": "de28a359",
   "metadata": {},
   "outputs": [],
   "source": []
  }
 ],
 "metadata": {
  "kernelspec": {
   "display_name": "Python 3.8.10 64-bit",
   "language": "python",
   "name": "python3"
  },
  "language_info": {
   "codemirror_mode": {
    "name": "ipython",
    "version": 3
   },
   "file_extension": ".py",
   "mimetype": "text/x-python",
   "name": "python",
   "nbconvert_exporter": "python",
   "pygments_lexer": "ipython3",
   "version": "3.8.10"
  },
  "vscode": {
   "interpreter": {
    "hash": "e7370f93d1d0cde622a1f8e1c04877d8463912d04d973331ad4851f04de6915a"
   }
  }
 },
 "nbformat": 4,
 "nbformat_minor": 5
}
