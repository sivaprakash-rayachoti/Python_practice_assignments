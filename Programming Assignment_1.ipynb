{
 "cells": [
  {
   "cell_type": "markdown",
   "id": "637b47a5",
   "metadata": {},
   "source": [
    "## Programming Assignment_1\n",
    "-------------"
   ]
  },
  {
   "cell_type": "markdown",
   "id": "0c647dbe",
   "metadata": {},
   "source": [
    "### 1. Write a Python program to print \"Hello Python\"?\n",
    "##### Sol:"
   ]
  },
  {
   "cell_type": "code",
   "execution_count": 2,
   "id": "732cbadd",
   "metadata": {},
   "outputs": [
    {
     "name": "stdout",
     "output_type": "stream",
     "text": [
      "Hello Python from Siva\n"
     ]
    }
   ],
   "source": [
    "print(\"Hello Python from Siva\")"
   ]
  },
  {
   "cell_type": "markdown",
   "id": "fc18a6cd",
   "metadata": {},
   "source": [
    "### 2. Write a Python program to do arithmetical operations addition and division.?\n",
    "##### Sol:"
   ]
  },
  {
   "cell_type": "code",
   "execution_count": 3,
   "id": "d5e81491",
   "metadata": {},
   "outputs": [
    {
     "name": "stdout",
     "output_type": "stream",
     "text": [
      "150\n",
      "2.0\n"
     ]
    }
   ],
   "source": [
    "a = 100\n",
    "b = 50\n",
    "\n",
    "## Addition\n",
    "add = a + b\n",
    "## Division\n",
    "div = a/b\n",
    "\n",
    "print(add)\n",
    "print(div)"
   ]
  },
  {
   "cell_type": "markdown",
   "id": "af6e2429",
   "metadata": {},
   "source": [
    "### 3. Write a Python program to find the area of a triangle?\n",
    "##### Sol:"
   ]
  },
  {
   "cell_type": "code",
   "execution_count": 4,
   "id": "d5d93846",
   "metadata": {},
   "outputs": [
    {
     "name": "stdout",
     "output_type": "stream",
     "text": [
      "Area of triangle: 1250.0\n"
     ]
    }
   ],
   "source": [
    "height = 100\n",
    "base = 25\n",
    "\n",
    "area = height*base/2\n",
    "\n",
    "print(f\"Area of triangle: {area}\")"
   ]
  },
  {
   "cell_type": "markdown",
   "id": "b8140061",
   "metadata": {},
   "source": [
    "### 4. Write a Python program to swap two variables?\n",
    "##### Sol:"
   ]
  },
  {
   "cell_type": "code",
   "execution_count": 5,
   "id": "182608ba",
   "metadata": {},
   "outputs": [
    {
     "name": "stdout",
     "output_type": "stream",
     "text": [
      "Before swap:\n",
      "var1 = 123 and var2 = 567\n",
      "\n",
      "After swap:\n",
      "var1 = 567 and var2 = 123\n"
     ]
    }
   ],
   "source": [
    "# var1 = 123\n",
    "# var2 = 111\n",
    "\n",
    "# print('Before swap:\\nvar1 = {} and var2 = {}'.format(var1, var2))\n",
    "\n",
    "# temp = var1\n",
    "# var1 = var2\n",
    "# var2 = temp\n",
    "# print('\\nAfter swap:\\nvar1 = {} and var2 = {}'.format(var1, var2))\n",
    "\n",
    "abc1 = 123\n",
    "abc2 = 567\n",
    "\n",
    "print('Before swap:\\nvar1 = {} and var2 = {}'.format(abc1, abc2))\n",
    "\n",
    "tmp = abc1\n",
    "abc1 = abc2\n",
    "abc2 = tmp\n",
    "\n",
    "print('\\nAfter swap:\\nvar1 = {} and var2 = {}'.format(abc1, abc2))"
   ]
  },
  {
   "cell_type": "markdown",
   "id": "3f8054c1",
   "metadata": {},
   "source": [
    "### 5. Write a Python program to generate a random number?\n",
    "##### Sol:"
   ]
  },
  {
   "cell_type": "code",
   "execution_count": 7,
   "id": "f1e76df9",
   "metadata": {},
   "outputs": [
    {
     "name": "stdout",
     "output_type": "stream",
     "text": [
      "0.22437997792477693\n",
      "794\n"
     ]
    }
   ],
   "source": [
    "# import random\n",
    "\n",
    "# print(random.random())\n",
    "# print(random.randint(1, 1000))\n",
    "import random\n",
    "\n",
    "print(random.random())\n",
    "print (random.randint(1,999))\n"
   ]
  },
  {
   "cell_type": "code",
   "execution_count": null,
   "id": "3ab18c00",
   "metadata": {},
   "outputs": [],
   "source": []
  }
 ],
 "metadata": {
  "kernelspec": {
   "display_name": "Python 3.8.10 64-bit",
   "language": "python",
   "name": "python3"
  },
  "language_info": {
   "codemirror_mode": {
    "name": "ipython",
    "version": 3
   },
   "file_extension": ".py",
   "mimetype": "text/x-python",
   "name": "python",
   "nbconvert_exporter": "python",
   "pygments_lexer": "ipython3",
   "version": "3.8.10"
  },
  "vscode": {
   "interpreter": {
    "hash": "e7370f93d1d0cde622a1f8e1c04877d8463912d04d973331ad4851f04de6915a"
   }
  }
 },
 "nbformat": 4,
 "nbformat_minor": 5
}
